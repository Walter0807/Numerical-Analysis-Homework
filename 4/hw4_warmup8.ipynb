{
 "cells": [
  {
   "cell_type": "code",
   "execution_count": 1,
   "metadata": {},
   "outputs": [
    {
     "name": "stdout",
     "output_type": "stream",
     "text": [
      "\n",
      "A =\n",
      "\n",
      "     1     1     1     1\n",
      "     1     4     8    16\n",
      "     1     2     9    27\n",
      "     1     4    16    64\n",
      "\n"
     ]
    }
   ],
   "source": [
    "A = [1 1 1 1;\n",
    "     1 4 8 16;\n",
    "     1 2 9 27;\n",
    "     1 4 16 64;\n",
    "]"
   ]
  },
  {
   "cell_type": "code",
   "execution_count": 2,
   "metadata": {},
   "outputs": [
    {
     "name": "stdout",
     "output_type": "stream",
     "text": [
      "\n",
      "b =\n",
      "\n",
      "    11\n",
      "    29\n",
      "    65\n",
      "   125\n",
      "\n"
     ]
    }
   ],
   "source": [
    "b = [11;29;65;125]"
   ]
  },
  {
   "cell_type": "code",
   "execution_count": 3,
   "metadata": {},
   "outputs": [
    {
     "name": "stdout",
     "output_type": "stream",
     "text": [
      "\n",
      "x =\n",
      "\n",
      "   14.8462\n",
      "   -8.1538\n",
      "    2.7692\n",
      "    1.5385\n",
      "\n"
     ]
    }
   ],
   "source": [
    "x = A\\b"
   ]
  },
  {
   "cell_type": "code",
   "execution_count": 5,
   "metadata": {},
   "outputs": [
    {
     "name": "stdout",
     "output_type": "stream",
     "text": [
      "\n",
      "t =\n",
      "\n",
      "    3.3000\n",
      "\n",
      "\n",
      "a =\n",
      "\n",
      "    1.0000    3.3000   10.8900   35.9370\n",
      "\n"
     ]
    }
   ],
   "source": [
    "t = 3.3\n",
    "a = [1 t t*t t^3]"
   ]
  },
  {
   "cell_type": "code",
   "execution_count": 7,
   "metadata": {},
   "outputs": [
    {
     "name": "stdout",
     "output_type": "stream",
     "text": [
      "\n",
      "ans =\n",
      "\n",
      "   73.3831\n",
      "\n"
     ]
    }
   ],
   "source": [
    "a*x"
   ]
  }
 ],
 "metadata": {
  "kernelspec": {
   "display_name": "Matlab",
   "language": "matlab",
   "name": "matlab"
  },
  "language_info": {
   "codemirror_mode": "octave",
   "file_extension": ".m",
   "help_links": [
    {
     "text": "MetaKernel Magics",
     "url": "https://github.com/calysto/metakernel/blob/master/metakernel/magics/README.md"
    }
   ],
   "mimetype": "text/x-octave",
   "name": "matlab",
   "version": "0.15.1"
  }
 },
 "nbformat": 4,
 "nbformat_minor": 2
}
