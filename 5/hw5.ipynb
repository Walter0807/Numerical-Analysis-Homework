{
 "cells": [
  {
   "cell_type": "markdown",
   "metadata": {},
   "source": [
    "# Computing eigenvalues."
   ]
  },
  {
   "cell_type": "code",
   "execution_count": 1,
   "metadata": {},
   "outputs": [
    {
     "name": "stdout",
     "output_type": "stream",
     "text": [
      "\n",
      "chi =\n",
      "\n",
      "    1.0000   -1.0000   -6.0000         0\n",
      "\n",
      "\n",
      "lambdas =\n",
      "\n",
      "         0\n",
      "    3.0000\n",
      "   -2.0000\n",
      "\n"
     ]
    }
   ],
   "source": [
    "A = [ 0 -17 21;\n",
    "      0 13 -15;\n",
    "      0 10 -12\n",
    "];\n",
    "chi = poly(A)\n",
    "lambdas = eig(A)"
   ]
  },
  {
   "cell_type": "code",
   "execution_count": 2,
   "metadata": {},
   "outputs": [
    {
     "name": "stdout",
     "output_type": "stream",
     "text": [
      "\n",
      "q0 =\n",
      "\n",
      "    0.8147\n",
      "    0.9058\n",
      "    0.1270\n",
      "\n",
      "\n",
      "lambda_curr =\n",
      "\n",
      "    3.0000\n",
      "\n"
     ]
    }
   ],
   "source": [
    "n = size(A,1);\n",
    "N = 100;\n",
    "q0 = rand(n,1)\n",
    "epsilon = 1e-6;\n",
    "q = q0./norm(q0);\n",
    "lambda_curr = zeros(n,1);\n",
    "for k = 1:N\n",
    "    lambda_prev = lambda_curr;\n",
    "    v = A*q;\n",
    "    lambda_curr = q'*v;\n",
    "    q = v./norm(v);\n",
    "    if abs(lambda_curr - lambda_prev)<epsilon\n",
    "        break;\n",
    "    end\n",
    "end\n",
    "lambda_curr"
   ]
  },
  {
   "cell_type": "markdown",
   "metadata": {},
   "source": [
    "The algorithm is only able to solve one possible $\\lambda$."
   ]
  },
  {
   "cell_type": "code",
   "execution_count": 3,
   "metadata": {},
   "outputs": [
    {
     "name": "stdout",
     "output_type": "stream",
     "text": [
      "\n",
      "A =\n",
      "\n",
      "         0   -3.0000   21.0000\n",
      "         0    3.0000  -15.0000\n",
      "         0    0.0000   -2.0000\n",
      "\n",
      "\n",
      "ans =\n",
      "\n",
      "         0\n",
      "    3.0000\n",
      "   -2.0000\n",
      "\n"
     ]
    }
   ],
   "source": [
    "for k = 1:N\n",
    "    [L,U] = lu(A);\n",
    "    A = U*L;\n",
    "end\n",
    "A\n",
    "diag(A)"
   ]
  },
  {
   "cell_type": "markdown",
   "metadata": {},
   "source": [
    "The diagonal elements of the output are the eigenvalues of matrix $A$."
   ]
  },
  {
   "cell_type": "markdown",
   "metadata": {},
   "source": [
    "# Interpolation points\n",
    "\n",
    "The observation points are equally spaced with $h = 0.5$, then\n",
    "$$\n",
    "c_{j-1} + 4c_j + c_{j+1} = \\frac{3}{h^2} (a_{j+1}-2a_j+a_{j-1})\n",
    "$$\n",
    "for $j = 1,\\cdots,n-1$\n"
   ]
  },
  {
   "cell_type": "code",
   "execution_count": 4,
   "metadata": {},
   "outputs": [
    {
     "name": "stdout",
     "output_type": "stream",
     "text": [
      "\n",
      "n =\n",
      "\n",
      "     4\n",
      "\n"
     ]
    }
   ],
   "source": [
    "x = [0 0.5 1 1.5 2];\n",
    "y = [0.5 1.425639 2.640859 4.009155 5.305472];\n",
    "h = 0.5;\n",
    "k = 3/(h.^2);\n",
    "n = length(x) - 1\n",
    "%Solve a\n",
    "a = zeros(n+1,1);\n",
    "for i=1:(n+1) \n",
    "    a(i) = y(i); \n",
    "end\n",
    "a(1:n);"
   ]
  },
  {
   "cell_type": "markdown",
   "metadata": {},
   "source": [
    "## a"
   ]
  },
  {
   "cell_type": "code",
   "execution_count": 5,
   "metadata": {},
   "outputs": [
    {
     "name": "stdout",
     "output_type": "stream",
     "text": [
      "\n",
      "cc =\n",
      "\n",
      "     6     0     0\n",
      "     1     4     1\n",
      "     0     0     6\n",
      "\n",
      "\n",
      "aa =\n",
      "\n",
      "    3.4750\n",
      "    1.8369\n",
      "   -0.8637\n",
      "\n",
      "\n",
      "c0 =\n",
      "\n",
      "    0.8079\n",
      "\n",
      "\n",
      "c =\n",
      "\n",
      "    0.8079\n",
      "    0.5792\n",
      "    0.3504\n",
      "   -0.1440\n",
      "\n",
      "\n",
      "d =\n",
      "\n",
      "   -0.1525\n",
      "   -0.1525\n",
      "   -0.3296\n",
      "   -0.3296\n",
      "\n",
      "\n",
      "b =\n",
      "\n",
      "    1.4855\n",
      "    2.1790\n",
      "    2.6438\n",
      "    2.7470\n",
      "\n",
      "\n",
      "coefs_nak =\n",
      "\n",
      "   -0.1525    0.8079    1.4855    0.5000\n",
      "   -0.1525    0.5792    2.1790    1.4256\n",
      "   -0.3296    0.3504    2.6438    2.6409\n",
      "   -0.3296   -0.1440    2.7470    4.0092\n",
      "\n",
      "\n",
      "standard_nak =\n",
      "\n",
      "   -0.1525    0.8079    1.4855    0.5000\n",
      "   -0.1525    0.5792    2.1790    1.4256\n",
      "   -0.3296    0.3504    2.6438    2.6409\n",
      "   -0.3296   -0.1440    2.7470    4.0092\n",
      "\n"
     ]
    }
   ],
   "source": [
    "%Solve c\n",
    "cc = zeros(n-1,n-1);\n",
    "for i=2:(n-2) \n",
    "    cc(i,i-1) = 1;\n",
    "    cc(i,i) = 4;\n",
    "    cc(i,i+1) = 1;\n",
    "end\n",
    "cc(1,1) = 6;\n",
    "cc(n-1,n-1) = 6;\n",
    "cc\n",
    "aa = zeros(n-1,1);\n",
    "for i = 2:n\n",
    "    aa(i-1) = (a(i-1) - 2*a(i) + a(i+1))*k;\n",
    "end\n",
    "aa\n",
    "c = cc\\aa;\n",
    "c0 = 2*c(1)-c(2)\n",
    "c = [c0;c]\n",
    "% Compute b and d\n",
    "d = zeros(n,1);\n",
    "b = zeros(n,1);\n",
    "for i = 1:n-1\n",
    "    d(i) = (c(i+1) - c(i))/(3*h);\n",
    "    b(i) = (a(i+1)-a(i))/h - (2*c(i)+c(i+1))*h/3;\n",
    "end\n",
    "d(n) = d(n-1)\n",
    "b(n) = b(n-1) + (c(n)+c(n-1))*h\n",
    "% Combine efficients\n",
    "coefs_nak = [d c b a(1:n)] \n",
    "obs = x';\n",
    "nak = mkpp(obs, coefs_nak);\n",
    "%Verification\n",
    "s = spline(x,y);\n",
    "standard_nak = s.coefs()"
   ]
  },
  {
   "cell_type": "markdown",
   "metadata": {},
   "source": [
    "## b"
   ]
  },
  {
   "cell_type": "code",
   "execution_count": 6,
   "metadata": {},
   "outputs": [
    {
     "name": "stdout",
     "output_type": "stream",
     "text": [
      "\n",
      "coefs_cs =\n",
      "\n",
      "   -0.1063    0.7557    1.5000    0.5000\n",
      "   -0.1747    0.5963    2.1760    1.4256\n",
      "   -0.2869    0.3342    2.6412    2.6409\n",
      "   -0.4782   -0.0961    2.7602    4.0092\n",
      "\n",
      "\n",
      "ans =\n",
      "\n",
      "   -0.1063    0.7557    1.5000    0.5000\n",
      "   -0.1747    0.5963    2.1760    1.4256\n",
      "   -0.2869    0.3342    2.6412    2.6409\n",
      "   -0.4782   -0.0961    2.7602    4.0092\n",
      "\n"
     ]
    }
   ],
   "source": [
    "yp = [1.5 2.305472];\n",
    "for i=1:n \n",
    "    h(i) = x(i+1)-x(i); \n",
    "end\n",
    "cc = zeros(n+1,n+1);\n",
    "for i = 2:n\n",
    "    cc(i,i) = 2*(h(i)+h(i-1));\n",
    "    cc(i,i-1) = h(i-1);\n",
    "    cc(i-1,i) = h(i-1);\n",
    "end\n",
    "cc(1,1)=2*h(1); \n",
    "cc(n+1,n+1) = 2*h(n); \n",
    "cc(n+1,n) = h(n); \n",
    "cc(n,n+1) = h(n);\n",
    "aa = zeros(n+1,1);\n",
    "for i=2:n \n",
    "    aa(i) = 3*(a(i+1)-a(i))/h(i) - 3*(a(i)-a(i-1))/h(i-1); \n",
    "end\n",
    "aa(1) = 3*(a(2)-a(1))/h(1) - 3*yp(1); \n",
    "aa(n+1) = 3*yp(2) - 3*(a(n+1)-a(n))/h(n);\n",
    "c = cc\\aa;\n",
    "% Compute b and d\n",
    "d = zeros(n,1);\n",
    "b = zeros(n,1);\n",
    "for i = 1:n\n",
    "    d(i) = (c(i+1)-c(i))/(3*h(i));\n",
    "    b(i) = (a(i+1)-a(i))/h(i)-h(i)*(c(i+1)+2*c(i))/3;\n",
    "end\n",
    "\n",
    "% Combine efficients\n",
    "coefs_cs = [d c(1:4) b a(1:n)] \n",
    "obs = x';\n",
    "cs = mkpp(obs, coefs_cs);\n",
    "%Verification\n",
    "cs = spline(x,[1.5 y 2.305472]);\n",
    "cs.coefs"
   ]
  },
  {
   "cell_type": "markdown",
   "metadata": {},
   "source": [
    "## c"
   ]
  },
  {
   "cell_type": "code",
   "execution_count": 7,
   "metadata": {},
   "outputs": [
    {
     "data": {
      "image/png": "[encoded data removed]",
      "text/plain": [
       "<IPython.core.display.Image object>"
      ]
     },
     "metadata": {},
     "output_type": "display_data"
    }
   ],
   "source": [
    "t = linspace (0,2);\n",
    "f = (1+t).^2 - 0.5*exp(t);\n",
    "plot(t, f - ppval(nak,t))\n",
    "hold on;\n",
    "plot(t, f - ppval(cs,t))"
   ]
  },
  {
   "cell_type": "markdown",
   "metadata": {},
   "source": [
    "The clamped result is better."
   ]
  },
  {
   "cell_type": "markdown",
   "metadata": {},
   "source": [
    "# Lake Pollution\n",
    "\n",
    "## a\n"
   ]
  },
  {
   "cell_type": "code",
   "execution_count": 8,
   "metadata": {},
   "outputs": [
    {
     "name": "stdout",
     "output_type": "stream",
     "text": [
      "\n",
      "ans =\n",
      "\n",
      "  -38.4000\n",
      "\n"
     ]
    },
    {
     "data": {
      "image/png": "[encoded data removed]",
      "text/plain": [
       "<IPython.core.display.Image object>"
      ]
     },
     "metadata": {},
     "output_type": "display_data"
    }
   ],
   "source": [
    "x=[1978 1980 1982 1984 1986 1988 1990 1992];\n",
    "y=[12.0 12.7 13.0 15.2 18.2 19.8 24.1 28.1];\n",
    "syms t;                    \n",
    "n = length(x);           \n",
    "L = 0;\n",
    "for(i = 1:n)                    \n",
    "    e = 1;                   \n",
    "    for j = 1:n\n",
    "        if (i~=j)\n",
    "          e = e*((t-x(j))/(x(i)-x(j)));\n",
    "        end\n",
    "    end\n",
    "    L = L + e*y(i);  \n",
    "end\n",
    "t = linspace (1978,1994);\n",
    "r = eval(L);\n",
    "plot(t,r)\n",
    "hold on;\n",
    "plot(x,y,'.')\n",
    "t = 1994;\n",
    "eval(L)"
   ]
  },
  {
   "cell_type": "markdown",
   "metadata": {},
   "source": [
    "## b"
   ]
  },
  {
   "cell_type": "code",
   "execution_count": 9,
   "metadata": {},
   "outputs": [
    {
     "name": "stdout",
     "output_type": "stream",
     "text": [
      "\n",
      "ans =\n",
      "\n",
      "   26.4407\n",
      "\n"
     ]
    },
    {
     "data": {
      "image/png": "[encoded data removed]",
      "text/plain": [
       "<IPython.core.display.Image object>"
      ]
     },
     "metadata": {},
     "output_type": "display_data"
    }
   ],
   "source": [
    "x=[1978 1980 1982 1984 1986 1988 1990 1992];\n",
    "y=[12.0 12.7 13.0 15.2 18.2 19.8 24.1 28.1];\n",
    "t = linspace (1978,1994);\n",
    "r = spline(x,y,t);\n",
    "plot(t,r)\n",
    "hold on;\n",
    "plot(x,y,'.')\n",
    "spline(x,y,1994)"
   ]
  },
  {
   "cell_type": "markdown",
   "metadata": {},
   "source": [
    "## c\n",
    "\n",
    "The cubic spline result makes more sense because functions of high degree causes much bias."
   ]
  },
  {
   "cell_type": "code",
   "execution_count": null,
   "metadata": {},
   "outputs": [],
   "source": []
  },
  {
   "cell_type": "code",
   "execution_count": null,
   "metadata": {},
   "outputs": [],
   "source": []
  }
 ],
 "metadata": {
  "kernelspec": {
   "display_name": "Matlab",
   "language": "matlab",
   "name": "matlab"
  },
  "language_info": {
   "codemirror_mode": "octave",
   "file_extension": ".m",
   "help_links": [
    {
     "text": "MetaKernel Magics",
     "url": "https://github.com/calysto/metakernel/blob/master/metakernel/magics/README.md"
    }
   ],
   "mimetype": "text/x-octave",
   "name": "matlab",
   "version": "0.15.1"
  }
 },
 "nbformat": 4,
 "nbformat_minor": 2
}
