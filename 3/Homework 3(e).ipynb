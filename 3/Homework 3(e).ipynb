{
 "cells": [
  {
   "cell_type": "markdown",
   "metadata": {},
   "source": [
    "# Permuted LU\n",
    "\n",
    "Initialization & find solution:"
   ]
  },
  {
   "cell_type": "code",
   "execution_count": 1,
   "metadata": {
    "scrolled": true
   },
   "outputs": [
    {
     "name": "stdout",
     "output_type": "stream",
     "text": [
      "\n",
      "ans =\n",
      "\n",
      "    3.0000\n",
      "    5.0000\n",
      "  -11.0000\n",
      "    7.0000\n",
      "\n"
     ]
    }
   ],
   "source": [
    "A = [2 5 -9 3; 5 6 -4 2; 3 -4 2 7; 11 7 4 -8];\n",
    "b = [151 103 16 -32]';\n",
    "b1 = b;\n",
    "ans = A\\b\n",
    "n = size(A,1);\n",
    "P = eye(n);"
   ]
  },
  {
   "cell_type": "markdown",
   "metadata": {},
   "source": [
    "LU factorization with partial pivoting:"
   ]
  },
  {
   "cell_type": "code",
   "execution_count": 2,
   "metadata": {},
   "outputs": [
    {
     "name": "stdout",
     "output_type": "stream",
     "text": [
      "L:\n",
      "ans =\n",
      "\n",
      "    1.0000         0         0         0\n",
      "    0.1818    1.0000         0         0\n",
      "    0.4545    0.7561    1.0000         0\n",
      "    0.2727   -1.5854   -9.4444    1.0000\n",
      "\n",
      "U:\n",
      "ans =\n",
      "\n",
      "   11.0000    7.0000    4.0000   -8.0000\n",
      "         0    3.7273   -9.7273    4.4545\n",
      "         0         0    1.5366    2.2683\n",
      "         0         0         0   37.6667\n",
      "\n",
      "\n",
      "P =\n",
      "\n",
      "     0     0     0     1\n",
      "     1     0     0     0\n",
      "     0     1     0     0\n",
      "     0     0     1     0\n",
      "\n",
      "Check LU:\n",
      "ans =\n",
      "\n",
      "   11.0000    7.0000    4.0000   -8.0000\n",
      "    2.0000    5.0000   -9.0000    3.0000\n",
      "    5.0000    6.0000   -4.0000    2.0000\n",
      "    3.0000   -4.0000    2.0000    7.0000\n",
      "\n"
     ]
    }
   ],
   "source": [
    "for k = 1:n-1\n",
    "    [v,pos]=max(A(k:n,k));\n",
    "    % swap rows\n",
    "    A([k;pos+k-1],:) = A([pos+k-1;k],:);\n",
    "    b([k;pos+k-1],:) = b([pos+k-1;k],:);\n",
    "    P([k;pos+k-1],:) = P([pos+k-1;k],:);\n",
    "    for i = k+1:n\n",
    "        r = A(i,k) / A(k,k);\n",
    "        b(i,1) = b(i,1) - r*b(k,1);\n",
    "        A(i,k+1:n) = A(i,k+1:n) - r*A(k,k+1:n);\n",
    "        A(i,k) = r;\n",
    "    end\n",
    "end\n",
    "% Print L\n",
    "fprintf('L:')\n",
    "eye(n) + tril(A,-1)\n",
    "% Print U\n",
    "fprintf('U:')\n",
    "triu(A)\n",
    "% Print P\n",
    "P\n",
    "% Print LU\n",
    "fprintf('Check LU:')\n",
    "(eye(n) + tril(A,-1))*triu(A)"
   ]
  },
  {
   "cell_type": "markdown",
   "metadata": {},
   "source": [
    "Solve `x`:"
   ]
  },
  {
   "cell_type": "code",
   "execution_count": 3,
   "metadata": {},
   "outputs": [
    {
     "name": "stdout",
     "output_type": "stream",
     "text": [
      "\n",
      "x =\n",
      "\n",
      "    3.0000\n",
      "    5.0000\n",
      "  -11.0000\n",
      "    7.0000\n",
      "\n"
     ]
    }
   ],
   "source": [
    "% Print x\n",
    "x = zeros(n,1);\n",
    "A = triu(A);\n",
    "for i = n: -1: 1\n",
    "    x(i,1) = (b(i,1) - A(i,:)*x)/A(i,i);\n",
    "end\n",
    "x"
   ]
  },
  {
   "cell_type": "markdown",
   "metadata": {},
   "source": [
    "# Tridiagonal LU\n",
    "\n",
    "**a**\n"
   ]
  },
  {
   "cell_type": "markdown",
   "metadata": {},
   "source": [
    "$$\n",
    " L = \\left[\n",
    " \\begin{matrix}\n",
    "   1 &  & & \\\\\n",
    "   -\\frac{1}{2} & 1  \\\\\n",
    "    & -\\frac{2}{3} & 1 \\\\\n",
    "   & & -\\frac{3}{4} & 1\n",
    "  \\end{matrix}\n",
    "  \\right] \\tag{3}\n",
    "$$\n",
    "\n",
    "$$\n",
    " U = \\left[\n",
    " \\begin{matrix}\n",
    "   2 & -1 & & \\\\\n",
    "    & \\frac{3}{2} & -1 &  \\\\\n",
    "    & & \\frac{4}{3} & -1 \\\\\n",
    "   & & & \\frac{5}{4}\n",
    "  \\end{matrix}\n",
    "  \\right] \\tag{3}\n",
    "$$\n",
    "\n",
    "$$\n",
    " x = \\left[\n",
    " \\begin{matrix}\n",
    "   2 \\\\\n",
    "   3 \\\\\n",
    "   3 \\\\\n",
    "   2\n",
    "  \\end{matrix}\n",
    "  \\right] \\tag{3}\n",
    "$$\n",
    "\n",
    "**b**\n"
   ]
  },
  {
   "cell_type": "code",
   "execution_count": 4,
   "metadata": {},
   "outputs": [
    {
     "name": "stdout",
     "output_type": "stream",
     "text": [
      "\n",
      "L =\n",
      "\n",
      "    1.0000         0         0         0\n",
      "   -0.5000    1.0000         0         0\n",
      "         0   -0.6667    1.0000         0\n",
      "         0         0   -0.7500    1.0000\n",
      "\n",
      "\n",
      "b =\n",
      "\n",
      "    1.0000\n",
      "    1.5000\n",
      "    2.0000\n",
      "    2.5000\n",
      "\n",
      "\n",
      "U =\n",
      "\n",
      "    2.0000   -1.0000         0         0\n",
      "         0    1.5000   -1.0000         0\n",
      "         0         0    1.3333   -1.0000\n",
      "         0         0         0    1.2500\n",
      "\n",
      "\n",
      "x =\n",
      "\n",
      "    2.0000\n",
      "    3.0000\n",
      "    3.0000\n",
      "    2.0000\n",
      "\n"
     ]
    }
   ],
   "source": [
    "A = [2 -1 0 0; -1 2 -1 0; 0 -1 2 -1; 0 0 -1 2];\n",
    "b = [1 1 1 1]';\n",
    "n = size(A,1);\n",
    "\n",
    "for k = 1:n-1\n",
    "    bound = min(k+2,n);\n",
    "    r = A(k+1,k) / A(k,k);\n",
    "    b(k+1,1) = b(k+1,1) - r*b(k,1);\n",
    "    A(k+1,k+1:bound) = A(k+1,k+1:bound) - r*A(k,k+1:bound);\n",
    "    A(k+1,k) = r;\n",
    "end\n",
    "L = eye(n) + tril(A,-1)\n",
    "b\n",
    "U = triu(A)\n",
    "x = zeros(n,1);\n",
    "A = triu(A);\n",
    "for i = n: -1: 1\n",
    "    bound = min(k+2,n);\n",
    "    x(i,1) = (b(i,1) - U(i,i:bound)*x(i:bound,1))/U(i,i);\n",
    "end\n",
    "x"
   ]
  },
  {
   "cell_type": "markdown",
   "metadata": {},
   "source": [
    "Define -, *, \\ operations of matrix elements as basic operations:\n",
    "\n",
    "Computing rounds and basic operations per loop,\n",
    "$$\n",
    "Number of computations = 7(n-2) + 5 +3(n-1) + 1 = 10n-11\n",
    "$$\n",
    "and\n",
    "$$\n",
    "N = 3n-2\n",
    "$$\n",
    "\n",
    "Therefore, number of computations roughly equals to $\\frac{10}{3}N$\n",
    "\n",
    "**c**\n",
    "\n",
    "As demonstrated, the results are same.\n",
    "\n",
    "\n",
    "# Facts about LTs\n",
    "\n",
    "**a**\n"
   ]
  },
  {
   "cell_type": "markdown",
   "metadata": {},
   "source": [
    "$n\\times n$ matrix $L$ is invertible $\\Leftrightarrow$ $det(L)\\neq 0$\n",
    "$$\n",
    "\\begin{eqnarray}\n",
    "det(L) &=& \n",
    "\\sum\\limits_{i=1}^{n}l_{i,n}(-1)^{i+n} det(L_{n-1})\n",
    "\\\\ &=& l_{n,n} \\cdot det(L_{n-1})\n",
    "\\\\ &=& l_{n,n} \\cdot l_{n-1,n-1} \\cdot det(L_{n-2})\n",
    "\\\\ &=& \\cdots\n",
    "\\\\ &=& \\prod\\limits_{i=1}^n l_{i,i}\n",
    "\\end{eqnarray}\n",
    "$$\n",
    "where\n",
    "$$\n",
    "L_n = L(1 : n, 1 : n)\n",
    "$$\n",
    "Therefore, if $L$ is any $n \\times n$ lower triangular invertible matrix, then $l_{jj} \\neq 0$ for every $1 \\leq j \\leq n$.\n",
    "\n",
    "**b**"
   ]
  },
  {
   "cell_type": "markdown",
   "metadata": {},
   "source": [
    "Define \n",
    "$$\n",
    "L(i,j) = l_{i,j}, L^{-1}(i,j) = p_{i,j}\n",
    "$$\n",
    "\n",
    "For $1<k\\leq n$, \n",
    "$$\n",
    "\\begin{eqnarray}\n",
    "\\sum\\limits_{j=1}^{n}l_{1,j}p_{j,k} &=& I_{1,k} \\\\\n",
    "&=& l_{1,1} \\cdot p_{1,k} \\\\\n",
    "&=& 0\n",
    "\\end{eqnarray}\n",
    "$$\n",
    "From *(a)*, $l_{1,1} \\neq 0$. So $p_{1,k} = 0$.\n",
    "\n",
    "Suppose for $i \\leq i_0, i<k \\leq n$, We have $p_{i,k} = 0$. Now consider $i = i_0+1, k > i$\n",
    "\n",
    "$$\n",
    "\\sum\\limits_{j=1}^{n}l_{i+1,j}p_{j,k} = I_{i+1,k} = 0\n",
    "$$\n",
    "When $j<i-1 = i_0$, $p_{j,k} = 0$; When $j>i$, $l_{i+1,j} = 0$.\n",
    "\n",
    "Therefore,\n",
    "\n",
    "$$\n",
    "\\sum\\limits_{j=1}^{n}l_{i+1,j}p_{j,k} = l_{i,i} \\cdot p_{i,k} = 0 \n",
    "$$\n",
    "\n",
    "From *(a)*, $l_{i,i} \\neq 0$. So $p_{i,k} = 0$.\n",
    "\n",
    "Then for $i \\leq i_0+1, k>i$, We have $p_{i,k} = 0$.\n",
    "\n",
    "Using *complete induction*, We have $p_{i,k} = 0$ for $1 \\leq i < k \\leq n$.\n",
    "\n",
    "So, if $L$ is an $n×n$ invertible lower triangular matrix, then $L^{−1}$ is also lower triangular.\n",
    "\n",
    "**c**\n",
    "\n",
    "Following the conventions in Problem 3 of HW2, we have\n",
    "$$\n",
    "e_k^{T}g_{k+1} = 0\n",
    "$$\n",
    "So,\n",
    "$$\n",
    "\\begin{eqnarray}\n",
    "L_1L_2\\cdots L_{n-1} &=& (I + g_1e_1^{T})(I + g_2e_2^{T}) \\cdots (I + g_{n-1}e_{n-1}^{T})\\\\\n",
    "&=& [I + (g_1e_1^{T} + g_2e_2^{T}) + g_1e_1^{T}g_2e_2^{T}] (I + g_{3}e_3^{T}) \\cdots (I + g_{n-1}e_{n-1}^{T})\\\\\n",
    "&=& [I + (g_1e_1^{T} + g_2e_2^{T})](I + g_{3}e_k^{T}) \\cdots (I + g_{n-1}e_k^{T})\\\\\n",
    "&=& \\cdots \\\\\n",
    "&=& I + \\sum\\limits_{k=1}^{n-1}g_ke_k^{T}\\\\\n",
    "\\end{eqnarray}\n",
    "$$\n",
    "\n",
    "\n",
    "\n"
   ]
  },
  {
   "cell_type": "code",
   "execution_count": null,
   "metadata": {},
   "outputs": [],
   "source": []
  }
 ],
 "metadata": {
  "kernelspec": {
   "display_name": "Matlab",
   "language": "matlab",
   "name": "matlab"
  },
  "language_info": {
   "codemirror_mode": "octave",
   "file_extension": ".m",
   "help_links": [
    {
     "text": "MetaKernel Magics",
     "url": "https://github.com/calysto/metakernel/blob/master/metakernel/magics/README.md"
    }
   ],
   "mimetype": "text/x-octave",
   "name": "matlab",
   "version": "0.15.1"
  }
 },
 "nbformat": 4,
 "nbformat_minor": 2
}
